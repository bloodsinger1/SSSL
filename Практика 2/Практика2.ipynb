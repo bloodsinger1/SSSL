{
  "nbformat": 4,
  "nbformat_minor": 0,
  "metadata": {
    "kernelspec": {
      "display_name": "Python 3",
      "language": "python",
      "name": "python3"
    },
    "language_info": {
      "name": "python",
      "version": "3.8"
    },
    "colab": {
      "provenance": []
    }
  },
  "cells": [
    {
      "cell_type": "markdown",
      "metadata": {
        "id": "Ew942rrPSABe"
      },
      "source": [
        "# Анализ логов Hadoop\n",
        "\n",
        "### Выполнил студент группы ББМО-01-23 Растегаев И.Г.\n",
        "\n",
        "**Описание работы:**\n",
        "- Обработка логов из файла `Hadoop_2k.log`\n",
        "- Сохранение данных в базу SQLite\n",
        "- Анализ и визуализация распределения уровней логирования"
      ]
    },
    {
      "cell_type": "code",
      "metadata": {
        "execution_count": null,
        "id": "heuS-CwzSABi"
      },
      "source": [
        "import re\n",
        "import sqlite3\n",
        "import pandas as pd\n",
        "import matplotlib.pyplot as plt\n",
        "from IPython.display import display, HTML\n"
      ],
      "outputs": [],
      "execution_count": 1
    },
    {
      "cell_type": "markdown",
      "metadata": {
        "id": "Xp4moGBgSABj"
      },
      "source": [
        "## Шаг 1: Загрузка логов"
      ]
    },
    {
      "cell_type": "code",
      "metadata": {
        "execution_count": null,
        "colab": {
          "base_uri": "https://localhost:8080/"
        },
        "id": "2QPoIIhXSABk",
        "outputId": "d979cf50-0334-4817-8c70-fa3bb6c9d5b8"
      },
      "source": [
        "log_file_path = 'Hadoop_2k.log'\n",
        "with open(log_file_path, 'r') as log_file:\n",
        "    log_entries = log_file.readlines()\n",
        "print(f\"Количество строк в лог-файле: {len(log_entries)}\")\n"
      ],
      "outputs": [
        {
          "output_type": "stream",
          "name": "stdout",
          "text": [
            "Количество строк в лог-файле: 2000\n"
          ]
        }
      ],
      "execution_count": 2
    },
    {
      "cell_type": "markdown",
      "metadata": {
        "id": "Xn7SSgM7SABl"
      },
      "source": [
        "## Шаг 2: Обработка логов"
      ]
    },
    {
      "cell_type": "code",
      "metadata": {
        "execution_count": null,
        "colab": {
          "base_uri": "https://localhost:8080/"
        },
        "id": "YLxJZzJkSABl",
        "outputId": "ad1562a2-fc85-47f0-85a7-749032c3c7c2"
      },
      "source": [
        "def extract_log_details(log_line):\n",
        "    pattern = r'(?P<time>\\d{4}-\\d{2}-\\d{2} \\d{2}:\\d{2}:\\d{2},\\d{3}) (?P<level>\\w+) \\[(?P<thread>[^\\]]+)\\] (?P<module>[\\w\\.]+): (?P<info>.*)'\n",
        "    result = re.match(pattern, log_line)\n",
        "    return result.groupdict() if result else None\n",
        "\n",
        "parsed_entries = [extract_log_details(entry.strip()) for entry in log_entries if extract_log_details(entry.strip()) is not None]\n",
        "if not parsed_entries:\n",
        "    print(\"Нет данных для обработки.\")\n",
        "else:\n",
        "    print(f\"Обработано {len(parsed_entries)} записей.\")\n"
      ],
      "outputs": [
        {
          "output_type": "stream",
          "name": "stdout",
          "text": [
            "Обработано 2000 записей.\n"
          ]
        }
      ],
      "execution_count": 3
    },
    {
      "cell_type": "markdown",
      "metadata": {
        "id": "U4v9i7F_SABm"
      },
      "source": [
        "## Шаг 3: Сохранение данных в базу SQLite"
      ]
    },
    {
      "cell_type": "code",
      "metadata": {
        "execution_count": null,
        "colab": {
          "base_uri": "https://localhost:8080/"
        },
        "id": "wSICzhUUSABm",
        "outputId": "45e9ceed-167c-4d6d-9c6a-40d869e3c968"
      },
      "source": [
        "connection = sqlite3.connect('hadoop_log_analysis.db')\n",
        "cursor = connection.cursor()\n",
        "cursor.execute('DROP TABLE IF EXISTS log_data')\n",
        "cursor.execute('''CREATE TABLE log_data (entry_id INTEGER PRIMARY KEY, time TEXT, level TEXT, thread TEXT, module TEXT, info TEXT)''')\n",
        "for entry in parsed_entries:\n",
        "    cursor.execute('''INSERT INTO log_data (time, level, thread, module, info) VALUES (:time, :level, :thread, :module, :info)''', entry)\n",
        "connection.commit()\n",
        "print(\"Данные успешно сохранены в базу данных.\")\n"
      ],
      "outputs": [
        {
          "output_type": "stream",
          "name": "stdout",
          "text": [
            "Данные успешно сохранены в базу данных.\n"
          ]
        }
      ],
      "execution_count": 4
    },
    {
      "cell_type": "markdown",
      "metadata": {
        "id": "1DaX0GDISABn"
      },
      "source": [
        "## Шаг 4: Анализ данных"
      ]
    },
    {
      "cell_type": "code",
      "metadata": {
        "execution_count": null,
        "colab": {
          "base_uri": "https://localhost:8080/",
          "height": 1000
        },
        "id": "G_kLajfASABo",
        "outputId": "7a917f82-87d2-4909-ed6c-940f9112a75b"
      },
      "source": [
        "log_df = pd.read_sql_query('SELECT * FROM log_data', connection)\n",
        "if log_df.empty:\n",
        "    print(\"В базе данных отсутствуют данные для анализа.\")\n",
        "else:\n",
        "    display(HTML(log_df.head(10).to_html(index=False)))\n",
        "    level_counts = log_df['level'].value_counts()\n",
        "    if not level_counts.empty:\n",
        "        level_counts.plot(kind='bar')\n",
        "        plt.xlabel('Уровень логирования')\n",
        "        plt.ylabel('Количество сообщений')\n",
        "        plt.title('Распределение уровней логов')\n",
        "        plt.show()\n"
      ],
      "outputs": [
        {
          "output_type": "display_data",
          "data": {
            "text/plain": [
              "<IPython.core.display.HTML object>"
            ],
            "text/html": [
              "<table border=\"1\" class=\"dataframe\">\n",
              "  <thead>\n",
              "    <tr style=\"text-align: right;\">\n",
              "      <th>entry_id</th>\n",
              "      <th>time</th>\n",
              "      <th>level</th>\n",
              "      <th>thread</th>\n",
              "      <th>module</th>\n",
              "      <th>info</th>\n",
              "    </tr>\n",
              "  </thead>\n",
              "  <tbody>\n",
              "    <tr>\n",
              "      <td>1</td>\n",
              "      <td>2015-10-18 18:01:47,978</td>\n",
              "      <td>INFO</td>\n",
              "      <td>main</td>\n",
              "      <td>org.apache.hadoop.mapreduce.v2.app.MRAppMaster</td>\n",
              "      <td>Created MRAppMaster for application appattempt_1445144423722_0020_000001</td>\n",
              "    </tr>\n",
              "    <tr>\n",
              "      <td>2</td>\n",
              "      <td>2015-10-18 18:01:48,963</td>\n",
              "      <td>INFO</td>\n",
              "      <td>main</td>\n",
              "      <td>org.apache.hadoop.mapreduce.v2.app.MRAppMaster</td>\n",
              "      <td>Executing with tokens:</td>\n",
              "    </tr>\n",
              "    <tr>\n",
              "      <td>3</td>\n",
              "      <td>2015-10-18 18:01:48,963</td>\n",
              "      <td>INFO</td>\n",
              "      <td>main</td>\n",
              "      <td>org.apache.hadoop.mapreduce.v2.app.MRAppMaster</td>\n",
              "      <td>Kind: YARN_AM_RM_TOKEN, Service: , Ident: (appAttemptId { application_id { id: 20 cluster_timestamp: 1445144423722 } attemptId: 1 } keyId: -127633188)</td>\n",
              "    </tr>\n",
              "    <tr>\n",
              "      <td>4</td>\n",
              "      <td>2015-10-18 18:01:49,228</td>\n",
              "      <td>INFO</td>\n",
              "      <td>main</td>\n",
              "      <td>org.apache.hadoop.mapreduce.v2.app.MRAppMaster</td>\n",
              "      <td>Using mapred newApiCommitter.</td>\n",
              "    </tr>\n",
              "    <tr>\n",
              "      <td>5</td>\n",
              "      <td>2015-10-18 18:01:50,353</td>\n",
              "      <td>INFO</td>\n",
              "      <td>main</td>\n",
              "      <td>org.apache.hadoop.mapreduce.v2.app.MRAppMaster</td>\n",
              "      <td>OutputCommitter set in config null</td>\n",
              "    </tr>\n",
              "    <tr>\n",
              "      <td>6</td>\n",
              "      <td>2015-10-18 18:01:50,509</td>\n",
              "      <td>INFO</td>\n",
              "      <td>main</td>\n",
              "      <td>org.apache.hadoop.mapreduce.v2.app.MRAppMaster</td>\n",
              "      <td>OutputCommitter is org.apache.hadoop.mapreduce.lib.output.FileOutputCommitter</td>\n",
              "    </tr>\n",
              "    <tr>\n",
              "      <td>7</td>\n",
              "      <td>2015-10-18 18:01:50,556</td>\n",
              "      <td>INFO</td>\n",
              "      <td>main</td>\n",
              "      <td>org.apache.hadoop.yarn.event.AsyncDispatcher</td>\n",
              "      <td>Registering class org.apache.hadoop.mapreduce.jobhistory.EventType for class org.apache.hadoop.mapreduce.jobhistory.JobHistoryEventHandler</td>\n",
              "    </tr>\n",
              "    <tr>\n",
              "      <td>8</td>\n",
              "      <td>2015-10-18 18:01:50,556</td>\n",
              "      <td>INFO</td>\n",
              "      <td>main</td>\n",
              "      <td>org.apache.hadoop.yarn.event.AsyncDispatcher</td>\n",
              "      <td>Registering class org.apache.hadoop.mapreduce.v2.app.job.event.JobEventType for class org.apache.hadoop.mapreduce.v2.app.MRAppMaster$JobEventDispatcher</td>\n",
              "    </tr>\n",
              "    <tr>\n",
              "      <td>9</td>\n",
              "      <td>2015-10-18 18:01:50,556</td>\n",
              "      <td>INFO</td>\n",
              "      <td>main</td>\n",
              "      <td>org.apache.hadoop.yarn.event.AsyncDispatcher</td>\n",
              "      <td>Registering class org.apache.hadoop.mapreduce.v2.app.job.event.TaskEventType for class org.apache.hadoop.mapreduce.v2.app.MRAppMaster$TaskEventDispatcher</td>\n",
              "    </tr>\n",
              "    <tr>\n",
              "      <td>10</td>\n",
              "      <td>2015-10-18 18:01:50,556</td>\n",
              "      <td>INFO</td>\n",
              "      <td>main</td>\n",
              "      <td>org.apache.hadoop.yarn.event.AsyncDispatcher</td>\n",
              "      <td>Registering class org.apache.hadoop.mapreduce.v2.app.job.event.TaskAttemptEventType for class org.apache.hadoop.mapreduce.v2.app.MRAppMaster$TaskAttemptEventDispatcher</td>\n",
              "    </tr>\n",
              "  </tbody>\n",
              "</table>"
            ]
          },
          "metadata": {}
        },
        {
          "output_type": "display_data",
          "data": {
            "text/plain": [
              "<Figure size 640x480 with 1 Axes>"
            ],
            "image/png": "[encoded data removed]"
          },
          "metadata": {}
        }
      ],
      "execution_count": 5
    },
    {
      "cell_type": "markdown",
      "metadata": {
        "id": "aB3nuh3eSABo"
      },
      "source": [
        "## Шаг 5: Завершение работы"
      ]
    },
    {
      "cell_type": "code",
      "metadata": {
        "execution_count": null,
        "colab": {
          "base_uri": "https://localhost:8080/"
        },
        "id": "bGsV_xX7SABp",
        "outputId": "ad0a2817-cf8d-418b-e0c7-d6e553c6afbb"
      },
      "source": [
        "connection.close()\n",
        "print(\"Работа завершена.\")"
      ],
      "outputs": [
        {
          "output_type": "stream",
          "name": "stdout",
          "text": [
            "Работа завершена.\n"
          ]
        }
      ],
      "execution_count": 6
    }
  ]
}